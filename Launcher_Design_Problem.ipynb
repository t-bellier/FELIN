{
 "cells": [
  {
   "cell_type": "markdown",
   "metadata": {},
   "source": [
    "# <h1><center> <font color='red'> Two-Stage-To-Orbit design problem</font> </h1></center>"
   ]
  },
  {
   "cell_type": "markdown",
   "metadata": {},
   "source": [
    "<center> L. BREVAULT (ONERA/DTIS), M. BALESDENT (ONERA/DTIS), G. SIRE (ONERA/DTIS), T. BELLIER(ISAE/DCAS)</center>\n",
    "<center> loic.brevault@onera.fr, mathieu.balesdent@onera.fr, glen.sire@onera.fr, thomas.bellier@isae-supaero.fr</center>\n",
    "<center> March 2023  </center>"
   ]
  },
  {
   "cell_type": "markdown",
   "metadata": {},
   "source": [
    "## <font color='blue'> Problem description:</font>\n",
    "\n",
    "- <font color='blue'> Simulation</font> of a **Two-Stage-To-Orbit expendable launch vehicle** using four coupled disciplines:\n",
    "    - Propulsion,\n",
    "    - Aerodynamics,\n",
    "    - Structure and sizing,\n",
    "    - Trajectory.\n",
    "- <font color='blue'> Mission</font>: injection of a **5t** payload into a **700km x 700km** circular orbit (equatorial)\n",
    "- <font color='blue'> Trajectory simulation </font> in the local geographic frame, 3D, non-rotating Earth:\n",
    "<center>\n",
    "$\\dot{r} = V \\sin(\\gamma)$\n",
    "</center> \n",
    "<center>\n",
    "$\\dot{V} = -\\frac{1}{2m} \\rho S_{ref} C_X V^2 -g(r) \\sin(\\gamma) + \\frac{T}{m} \\cos(\\theta-\\gamma) +\\omega_E^2 r \\sin(\\gamma)$ \n",
    "</center>\n",
    "<center>   \n",
    "$\\dot{\\gamma} = \\left(\\frac{V}{r} - \\frac{g(r)}{V}\\right) \\cos(\\gamma) + \\frac{T}{mV} \\sin(\\theta - \\gamma)+ 2\\omega_E + \\frac{\\omega_E^2 r \\cos(\\gamma)}{V} + \\frac{L}{mV}$\n",
    "</center>    \n",
    "<center>\n",
    "$\\dot{l} = \\frac{V}{r} \\cos(\\gamma) $\n",
    "</center> \n",
    "<center>       \n",
    "$\\dot{m} = - q $\n",
    "</center>    \n",
    "where:\n",
    "$r$: altitude (m),\n",
    "$V$: norm of velocity (m/s),\n",
    "$\\gamma$: flight path angle (rad),\n",
    "$l$: longitude (rad),\n",
    "$m$: mass (kg),\n",
    "$\\theta$: pitch angle (rad),\n",
    "$S_{ref}$: surface of reference ($m^2$),\n",
    "$T$: thrust (N),\n",
    "$\\rho$: air density ($kg/m^3$),\n",
    "$C_X$: drag coefficient,\n",
    "$g(r)$: Earth gravity ($m/s^2$),\n",
    "$q$: mass flow rate ($kg/m^3$) and $\\alpha$: angle of attack (rad).\n",
    "\n",
    "<img src=\"angles_definition.png\" alt=\"Drawing\" style=\"width: 300px;\"/>\n",
    "\n",
    "- <font color='blue'> Trajectory phases and control </font>:\n",
    "    - Lift-off: $\\theta = \\pi/2$\n",
    "    - Pitch-over maneuver: $\\theta(t) = \\gamma - \\frac{\\Delta_{\\theta} * t}{\\Delta_t}$\n",
    "        - where $\\Delta_{\\theta}$ is the variation (in rad) of $\\theta$ during the maneuver and $\\Delta_t$ is the duration of the maneuver (in s)\n",
    "    - Gravity turn: return to angle of attack of zero and then $\\theta = \\gamma$ ($\\alpha = 0.$)\n",
    "    - Exo-atmospheric command for first stage: $\\theta$ is optimized by a linear interpolation control law (parameters are waypoints of $\\theta$ as a function of time, 2 parameters are used: $\\theta$ at the time at which the exo-atmospheric phase begins and $\\theta$ at the end of the first stage flight)\n",
    "    - Separation between the first and second stages\n",
    "    - Second stage flight (bi-linear tangent command): $\\tan(\\theta) = \\frac{a^\\xi \\tan(\\theta_i)+(\\tan(\\theta_f)-a^\\xi \\tan(\\theta_i))t}{a^\\xi+(1-a^\\xi)t}$\n",
    "        - where $a$ is a constant, $\\xi$ a parameter defining the shape of the bi-linear tangeant law, $\\theta_i$ and $\\theta_f$ the pitch angles at the beginning and at the end of the phase, see [F. Castellini PhD thesis](https://www.google.com/url?sa=t&rct=j&q=&esrc=s&source=web&cd=2&cad=rja&uact=8&ved=2ahUKEwiYq9yN9urhAhWaAmMBHeMHDmQQFjABegQIARAC&url=https%3A%2F%2Fwww.politesi.polimi.it%2Fbitstream%2F10589%2F56841%2F1%2F201203_PhD_Castellini.pdf&usg=AOvVaw14PiJUsq8IUSFMbhVEfBef) page 69\n",
    "    - Coast phase (balistic flight to reach the final orbit -- not simulated)\n",
    "    - Orbit circularization boost (-- not simulated)\n",
    "\n",
    "<img src=\"trajectory_phase.png\" alt=\"Drawing\" style=\"width: 600px;\"/>\n",
    "\n",
    "\n",
    "- <font color='blue'> Propulsion</font>: simplified model based on [M. Balesdent PhD thesis](https://tel.archives-ouvertes.fr/tel-00659362/document) pages 100-101\n",
    "- <font color='blue'> Structure and sizing</font>: Mass Estimating Relations (MER) based on [F. Castellini PhD thesis](https://www.google.com/url?sa=t&rct=j&q=&esrc=s&source=web&cd=2&cad=rja&uact=8&ved=2ahUKEwiYq9yN9urhAhWaAmMBHeMHDmQQFjABegQIARAC&url=https%3A%2F%2Fwww.politesi.polimi.it%2Fbitstream%2F10589%2F56841%2F1%2F201203_PhD_Castellini.pdf&usg=AOvVaw14PiJUsq8IUSFMbhVEfBef) pages 79-85\n",
    "- <font color='blue'> Aerodynamics </font>: fixed drag table $C_X(\\text{Mach},\\alpha)$ as a function of Mach and angle of attack $\\alpha$ (rad) obtained for a representative TSTO launcher geometry using low fidelity aerodynamics code (e.g. MissileDATCOM).\n",
    "\n",
    "\n",
    "- Use of [OpenMDAO](http://openmdao.org/) to connect the different disciplines as a group\n"
   ]
  },
  {
   "cell_type": "markdown",
   "metadata": {},
   "source": [
    "## <font color='blue'> Problem simulation:</font>"
   ]
  },
  {
   "cell_type": "markdown",
   "metadata": {},
   "source": [
    "Import of general python librairy "
   ]
  },
  {
   "cell_type": "code",
   "execution_count": 2,
   "metadata": {},
   "outputs": [],
   "source": [
    "import numpy as np\n",
    "import pandas as pd\n",
    "import sys\n",
    "np.set_printoptions(threshold=sys.maxsize)\n",
    "from matplotlib import pyplot as plt"
   ]
  },
  {
   "cell_type": "markdown",
   "metadata": {},
   "source": [
    "Import OpenMDAO + CMA-ES optimization algorithm\n",
    "\n",
    "-Required packages : \n",
    "    - pip install openmdao\n",
    "    - pip install cma\n",
    "    - pip install geopy\n",
    "    - pip install pandas"
   ]
  },
  {
   "cell_type": "code",
   "execution_count": 3,
   "metadata": {},
   "outputs": [],
   "source": [
    "import openmdao.api as om\n",
    "import cma"
   ]
  },
  {
   "cell_type": "markdown",
   "metadata": {},
   "source": [
    "Testing OpenMDAO with a very simple paraboloid function"
   ]
  },
  {
   "cell_type": "code",
   "execution_count": 4,
   "metadata": {},
   "outputs": [
    {
     "name": "stdout",
     "output_type": "stream",
     "text": [
      "Optimization terminated successfully    (Exit mode 0)\n",
      "            Current function value: -27.33333333333333\n",
      "            Iterations: 5\n",
      "            Function evaluations: 6\n",
      "            Gradient evaluations: 5\n",
      "Optimization Complete\n",
      "-----------------------------------\n",
      "[-27.33333333]\n",
      "[6.66666667]\n",
      "[-7.33333333]\n"
     ]
    }
   ],
   "source": [
    "# build the model \n",
    "prob = om.Problem() \n",
    "\n",
    "prob.model.add_subsystem('paraboloid', om.ExecComp('f = (x-3)**2 + x*y + (y+4)**2 - 3')) \n",
    "\n",
    "# setup the optimization \n",
    "prob.driver = om.ScipyOptimizeDriver() \n",
    "prob.driver.options['optimizer'] = 'SLSQP' \n",
    "\n",
    "prob.model.add_design_var('paraboloid.x', lower=-50, upper=50) \n",
    "prob.model.add_design_var('paraboloid.y', lower=-50, upper=50) \n",
    "prob.model.add_objective('paraboloid.f') \n",
    "\n",
    "prob.setup() \n",
    "\n",
    "# set initial values \n",
    "prob.set_val('paraboloid.x', 3.0) \n",
    "prob.set_val('paraboloid.y', -4.0)\n",
    "\n",
    "# run the optimization\n",
    "prob.run_driver() \n",
    "\n",
    "# minimum value \n",
    "print(prob.get_val('paraboloid.f'))\n",
    "\n",
    "# location of the minimum \n",
    "print(prob.get_val('paraboloid.x')) \n",
    "print(prob.get_val('paraboloid.y'))"
   ]
  },
  {
   "cell_type": "markdown",
   "metadata": {},
   "source": [
    "Import of specific Python functions for launch vehicle design"
   ]
  },
  {
   "cell_type": "code",
   "execution_count": 5,
   "metadata": {},
   "outputs": [],
   "source": [
    "import Launch_vehicle_Group\n",
    "import post_traitement\n",
    "import result_vizualization\n",
    "import constants as Cst\n",
    "import specifications as Spec"
   ]
  },
  {
   "cell_type": "markdown",
   "metadata": {},
   "source": [
    "Creation of an OpenMDAO problem using the launch vehicle group"
   ]
  },
  {
   "cell_type": "code",
   "execution_count": 5,
   "metadata": {},
   "outputs": [
    {
     "data": {
      "text/plain": [
       "<openmdao.core.problem.Problem at 0x1eb0e93c3a0>"
      ]
     },
     "execution_count": 5,
     "metadata": {},
     "output_type": "execute_result"
    }
   ],
   "source": [
    "P_obj = om.Problem()\n",
    "P_obj.model=Launch_vehicle_Group.Launcher_vehicle()\n",
    "P_obj.setup()"
   ]
  },
  {
   "cell_type": "markdown",
   "metadata": {},
   "source": [
    "Visualize the N2 chart to visualize the connections between the disciplines"
   ]
  },
  {
   "cell_type": "code",
   "execution_count": 6,
   "metadata": {},
   "outputs": [
    {
     "data": {
      "text/html": [
       "\n",
       "        <iframe\n",
       "            width=\"100%\"\n",
       "            height=\"700\"\n",
       "            src=\"n2.html\"\n",
       "            frameborder=\"0\"\n",
       "            allowfullscreen\n",
       "            \n",
       "        ></iframe>\n",
       "        "
      ],
      "text/plain": [
       "<IPython.lib.display.IFrame at 0x1eb0e93c130>"
      ]
     },
     "metadata": {},
     "output_type": "display_data"
    }
   ],
   "source": [
    "om.n2(P_obj,outfile='n2.html',show_browser=True)"
   ]
  },
  {
   "cell_type": "markdown",
   "metadata": {},
   "source": [
    "### Fixed Point Iteration (FPI)\n",
    "\n",
    "Enable the solving of interdisciplinary couplings between the 'trajectory' and the 'sizing and structure (struct_1)' disciplines. The feedback coupling \"Pdyn_max_dim\" is an input of the 'sizing and structure' discipline and \"max_pdyn_load_ascent_stage_1\" is an output of the trajectory discipline and these variables have to be equal to satisfy the interdisciplinary couplings. \n",
    "\n",
    "The variable \"Pdyn_max_dim\" is initialized to run the propulsion, the aerodynamics, the structure and then the trajectory disciplines and the output of the trajectory \"max_pdyn_load_ascent_stage_1\" is compared to the input of the structure \"Pdyn_max_dim\". If the difference is too large, the input of the structure \"Pdyn_max_dim\" is updated with the corresponding output of the trajectory discipline and a new evaluation of the disciplines is carried out.\n",
    "\n",
    "For the stage fallout: use variable 'is_fallout': if is_fallout=0: no simulation of stage 1 fallout else if is_fallout=1: simulation of stage 1 fallout (not running for the moment, see Project 2)"
   ]
  },
  {
   "cell_type": "markdown",
   "metadata": {},
   "source": [
    "### XDSM diagram for the MDA\n",
    "\n",
    "We can summurize the Multi-Disciplinary Analysis (MDA) problem we just built with an XDSM diagram.\n",
    "\n",
    "<img src=\"mda xdsm.png\" alt=\"Drawing\"/>"
   ]
  },
  {
   "cell_type": "code",
   "execution_count": 7,
   "metadata": {},
   "outputs": [],
   "source": [
    "def FPI(tuple_input):\n",
    "#    x = tuple_input[0]\n",
    "#    lowerbnd_exp = tuple_input[1]\n",
    "#    upperbnd_exp = tuple_input[2]\n",
    "    Pb = tuple_input\n",
    "#    \n",
    "    Pb.setup(check = False)\n",
    "#    XX = lowerbnd_exp + (upperbnd_exp - lowerbnd_exp)*x\n",
    "    Pb['Diameter_stage_1'] = 5.0\n",
    "    Pb['Diameter_stage_2'] = 5.0\n",
    "    Pb['Mass_flow_rate_stage_1'] = 250.\n",
    "    Pb['Mass_flow_rate_stage_2'] = 250.\n",
    "    Pb['Thrust_stage_1'] = 1000.\n",
    "    Pb['Thrust_stage_2'] = 800.\n",
    "    Pb['OF_stage_1'] = 5.0\n",
    "    Pb['OF_stage_2'] = 5.0\n",
    "    Pb['Pc_stage_1'] = 100.0\n",
    "    Pb['Pc_stage_2'] = 100.0\n",
    "    Pb['Pe_stage_1'] = 1.0\n",
    "    Pb['Pe_stage_2'] = 1.0\n",
    "    Pb['N_eng_stage_1'] = 8.\n",
    "    Pb['N_eng_stage_2'] = 1.\n",
    "    Pb['Prop_mass_stage_1'] = 320000.\n",
    "    Pb['Prop_mass_stage_2'] = 75000.\n",
    "    Pb['thetacmd_i'] = 2.72\n",
    "    Pb['thetacmd_f'] = 10.\n",
    "    Pb['ksi'] = 0.293\n",
    "    Pb['Pitch_over_duration'] = 5.\n",
    "    Pb['Exit_nozzle_area_stage_1'] = 0.79\n",
    "    Pb['Exit_nozzle_area_stage_2'] = 3.6305\n",
    "    Pb['Delta_vertical_phase'] = 10.\n",
    "    Pb['Delta_theta_pitch_over'] = 1.        \n",
    "    Pb['command_stage_1_exo'] = np.array([30.,-20.])\n",
    "    Pb['is_fallout']=0. #0: no simulation of stage 1 fallout, 1: simulation of stage 1 fallout\n",
    "\n",
    "    error = 100.\n",
    "    Pb['Pdyn_max_dim'] = 40.\n",
    "    k=0\n",
    "    while error>1. and k<20:\n",
    "        Pb.run_model()\n",
    "        error = abs(Pb['Pdyn_max_dim']-Pb['max_pdyn_load_ascent_stage_1']/1e3)\n",
    "        Pb['Pdyn_max_dim'] = Pb['max_pdyn_load_ascent_stage_1']/1e3\n",
    "        k = k+1\n",
    "        print('Fixed Point Iteration: ',k ,', error: ', np.round(error[0],2), ', Input pdyn max (kPa): ', np.round(Pb['Pdyn_max_dim'][0],2))\n",
    "    return Pb"
   ]
  },
  {
   "cell_type": "code",
   "execution_count": 8,
   "metadata": {},
   "outputs": [
    {
     "name": "stdout",
     "output_type": "stream",
     "text": [
      "Fixed Point Iteration:  1 , error:  3.83 , Input pdyn max (kPa):  36.17\n",
      "Fixed Point Iteration:  2 , error:  0.01 , Input pdyn max (kPa):  36.18\n"
     ]
    }
   ],
   "source": [
    "P_out = FPI(P_obj)\n",
    "GLOW, contraintes = post_traitement.post_traitement(P_out)"
   ]
  },
  {
   "cell_type": "markdown",
   "metadata": {},
   "source": [
    "## Plot outputs of trajectory simulation"
   ]
  },
  {
   "cell_type": "code",
   "execution_count": 9,
   "metadata": {},
   "outputs": [
    {
     "data": {
      "text/plain": [
       "<Figure size 1500x1500 with 8 Axes>"
      ]
     },
     "metadata": {},
     "output_type": "display_data"
    }
   ],
   "source": [
    "result_vizualization.plots_output(P_out)"
   ]
  },
  {
   "cell_type": "markdown",
   "metadata": {},
   "source": [
    "### Output data from simulation"
   ]
  },
  {
   "cell_type": "code",
   "execution_count": 10,
   "metadata": {},
   "outputs": [
    {
     "data": {
      "text/html": [
       "<div>\n",
       "<style scoped>\n",
       "    .dataframe tbody tr th:only-of-type {\n",
       "        vertical-align: middle;\n",
       "    }\n",
       "\n",
       "    .dataframe tbody tr th {\n",
       "        vertical-align: top;\n",
       "    }\n",
       "\n",
       "    .dataframe thead th {\n",
       "        text-align: right;\n",
       "    }\n",
       "</style>\n",
       "<table border=\"1\" class=\"dataframe\">\n",
       "  <thead>\n",
       "    <tr style=\"text-align: right;\">\n",
       "      <th></th>\n",
       "      <th>GLOW (t)</th>\n",
       "      <th>Dry_mass_stage_1  (t)</th>\n",
       "      <th>Dry_mass_stage_2  (t)</th>\n",
       "      <th>Prop_mass_stage_1 (t)</th>\n",
       "      <th>Prop_mass_stage_2 (t)</th>\n",
       "    </tr>\n",
       "  </thead>\n",
       "  <tbody>\n",
       "    <tr>\n",
       "      <th>0</th>\n",
       "      <td>441.198</td>\n",
       "      <td>32.27</td>\n",
       "      <td>6.928</td>\n",
       "      <td>320.0</td>\n",
       "      <td>75.0</td>\n",
       "    </tr>\n",
       "  </tbody>\n",
       "</table>\n",
       "</div>"
      ],
      "text/plain": [
       "   GLOW (t)  Dry_mass_stage_1  (t)  Dry_mass_stage_2  (t)  \\\n",
       "0   441.198                  32.27                  6.928   \n",
       "\n",
       "   Prop_mass_stage_1 (t)  Prop_mass_stage_2 (t)  \n",
       "0                  320.0                   75.0  "
      ]
     },
     "execution_count": 10,
     "metadata": {},
     "output_type": "execute_result"
    }
   ],
   "source": [
    "data = [[P_out['GLOW'][0]/1e3,\n",
    "         P_out['Dry_mass_stage_1'][0]/1e3,\n",
    "         P_out['Dry_mass_stage_2'][0]/1e3,\n",
    "        P_out['Prop_mass_stage_1'][0]/1e3,\n",
    "        P_out['Prop_mass_stage_2'][0]/1e3]]\n",
    "df = pd.DataFrame(data, columns=[\"GLOW (t)\", \"Dry_mass_stage_1  (t)\", \n",
    "                                     \"Dry_mass_stage_2  (t)\", \"Prop_mass_stage_1 (t)\", \n",
    "                                     \"Prop_mass_stage_2 (t)\"])\n",
    "df.round(3)"
   ]
  },
  {
   "cell_type": "markdown",
   "metadata": {},
   "source": [
    "## <font color='blue'> Optimization problem:</font>"
   ]
  },
  {
   "cell_type": "markdown",
   "metadata": {},
   "source": [
    "\\begin{eqnarray}\n",
    "\\text{min} & & \\text{GLOW}(\\mathbf{z}) \\\\\n",
    "\\text{w.r.t} & & \\mathbf{z}=[\\text{M}_{prop1},\\text{M}_{prop2},\\theta_i, \\theta_f, \\xi, \\Delta_t, \\Delta_\\theta, t_{vertical}, \\theta_{cmd} ] \\\\\n",
    "\\text{s.t.} & & \\alpha_{ascent}(\\mathbf{z}) \\leq 15 \\\\\n",
    " & & NX_{ascent}(\\mathbf{z}) \\leq 4.5 \\\\\n",
    " & & Pdyn_{ascent}(\\mathbf{z}) \\leq 40. \\\\\n",
    " & & HeatFlux_{ascent}(\\mathbf{z}) \\leq 100. \\\\\n",
    " & & \\text{Apogee}(\\mathbf{z}) = 700. \\\\\n",
    " & & \\text{Perigee}_{CoastPhase}(\\mathbf{z}) \\geq 140. \\\\\n",
    " & & M_{Circularization}(\\mathbf{z}) \\geq 0. \\\\\n",
    " &&\\mathbf{z}_\\text{min} \\leq \\mathbf{z} \\leq \\mathbf{z}_\\text{max}\n",
    "\\end{eqnarray}\n",
    "with:\n",
    "- GLOW: Gross-Lift-Off Weight\n",
    "- $\\mathbf{z} \\in \\mathbb{R}^{10}$, in practice the input variables are normalized into $[0. ,1.]^{10}$\n",
    "- $\\text{M}_{prop1}$: Prop_mass_stage_1\n",
    "- $\\text{M}_{prop2}$: Prop_mass_stage_2\n",
    "- $\\theta_i$: thetacmd_i, pitch angle begining of bilinear phase \n",
    "- $\\theta_f$: thetacmd_f, pitch angle end of bilinear phase \n",
    "- $\\xi$: ksi, shape parameter of bilinear phase \n",
    "- $\\Delta_t$: Pitch_over_duration\n",
    "- $\\Delta_\\theta$: Delta_theta_pitch_over\n",
    "- $t_{vertical}$: Delta_vertical_phase\n",
    "- $\\theta_{cmd}$: command_stage_1_exo (vector of dimension 2)\n",
    "\n",
    "The constraints are defined in the specification.py file:\n",
    "- $\\alpha_{ascent}$: angle of attack during the ascent phase that must be below 15 degrees\n",
    "- $NX_{ascent}$: axial load factor during the ascent phase that must be below 4.5g\n",
    "- $Pdyn_{ascent}$: dynamic pressure during the ascent phase that must be below 40kPa\n",
    "- $HeatFlux_{ascent}$: heat flux during the ascent phase that must be below 100 $W/m^2$\n",
    "- $\\text{Apogee}$: Apogee altitude of the coast phase transition orbit must be equal to 700km\n",
    "- $\\text{Perigee}_{CoastPhase}$: Perigee altitude of the coast phase transition orbit must be above 140km\n",
    "- $M_{Circularization}$: remaining propellant mass before the circularization burn must be sufficient to circularize the final orbit 700 x 700km "
   ]
  },
  {
   "cell_type": "markdown",
   "metadata": {},
   "source": [
    "### XDSM diagram for the MDO\n",
    "\n",
    "We can summurize the Multi-Disciplinary Optimisation (MDO) problem we just built with an XDSM diagram, based on the previous one for the MDA.\n",
    "\n",
    "<img src=\"mdao xdsm.png\" alt=\"Drawing\"/>"
   ]
  },
  {
   "cell_type": "markdown",
   "metadata": {},
   "source": [
    "### FPI for optimization"
   ]
  },
  {
   "cell_type": "code",
   "execution_count": 11,
   "metadata": {},
   "outputs": [],
   "source": [
    "def FPI_optim(x,lowerbnd_exp,upperbnd_exp,Pb):\n",
    "\n",
    "    Pb.setup(check = False)\n",
    "    XX = lowerbnd_exp + (upperbnd_exp - lowerbnd_exp)*x\n",
    "    Pb['Diameter_stage_1'] = 5.0\n",
    "    Pb['Diameter_stage_2'] = 5.0\n",
    "    Pb['Mass_flow_rate_stage_1'] = 300.\n",
    "    Pb['Mass_flow_rate_stage_2'] = 200.\n",
    "    Pb['Thrust_stage_1'] = 1000.\n",
    "    Pb['Thrust_stage_2'] = 1000. # not used\n",
    "    Pb['OF_stage_1'] = 5.\n",
    "    Pb['OF_stage_2'] = 5.5\n",
    "    Pb['Pc_stage_1'] = 80.0\n",
    "    Pb['Pc_stage_2'] = 60.0\n",
    "    Pb['Pe_stage_1'] = 1.0\n",
    "    Pb['Pe_stage_2'] = 1.0\n",
    "    Pb['N_eng_stage_1'] = 6.\n",
    "    Pb['N_eng_stage_2'] = 1.\n",
    "    Pb['Prop_mass_stage_1'] = XX[0]*1e3\n",
    "    Pb['Prop_mass_stage_2'] = XX[1]*1e3\n",
    "    Pb['thetacmd_i'] = XX[2]\n",
    "    Pb['thetacmd_f'] = XX[3] \n",
    "    Pb['ksi'] = XX[4]\n",
    "    Pb['Pitch_over_duration'] = XX[5]\n",
    "    Pb['Exit_nozzle_area_stage_1'] = 0.79\n",
    "    Pb['Exit_nozzle_area_stage_2'] = 3.6305\n",
    "    Pb['Delta_vertical_phase'] = XX[6]\n",
    "    Pb['Delta_theta_pitch_over'] = XX[7]        \n",
    "    Pb['command_stage_1_exo'] = XX[8:10]\n",
    "    Pb['is_fallout']=0. #0: no simulation of stage 1 fallout, 1: simulation of stage 1 fallout\n",
    "\n",
    "    error = 100.\n",
    "    Pb['Pdyn_max_dim'] = 40.\n",
    "    k=0\n",
    "    while error>1. and k<20: # Solving of Fixed Point Iteration via Gauss-Seidel\n",
    "        Pb.run_model()\n",
    "        error = abs(Pb['Pdyn_max_dim']-Pb['max_pdyn_load_ascent_stage_1']/1e3)\n",
    "        Pb['Pdyn_max_dim'] = Pb['max_pdyn_load_ascent_stage_1']/1e3\n",
    "        k = k+1\n",
    "    return Pb"
   ]
  },
  {
   "cell_type": "markdown",
   "metadata": {},
   "source": [
    "### Definition of objective function\n",
    "Definition the objective function for evolutionary algorithm Covariance Matrix Adaptation (CMA-ES) more details on CMA-ES [here](http://cma.gforge.inria.fr/) and [here](https://en.wikipedia.org/wiki/CMA-ES). Penalization strategy is used to handle the different constraints in this example.\n",
    "If the constraints are not satisfied, the \"penalized objective function\" corresponds to the minimization of the constraint violation, and if the constraints are satisfied, $-(1e6 - GLOW)/1e5$ is minimized: \n",
    "when the constraints are not satisfied, the objective function takes as value the sum of non satisfied constraints."
   ]
  },
  {
   "cell_type": "code",
   "execution_count": 12,
   "metadata": {},
   "outputs": [],
   "source": [
    "def Objective_function(x,lowerbnd_exp,upperbnd_exp,Pb,simu):\n",
    "    P_out = FPI_optim(x,lowerbnd_exp,upperbnd_exp,Pb)\n",
    "    GLOW, contraintes = post_traitement.post_traitement(P_out)\n",
    "    if simu==0: \n",
    "        if len(np.where(contraintes>1e-2)[0])==0:            \n",
    "            return -(1e6 - GLOW)/1e5\n",
    "        else:\n",
    "\n",
    "            cont = np.sum(contraintes[np.where(contraintes>0)[0]])\n",
    "            return cont\n",
    "    else :\n",
    "        if len(np.where(contraintes>1e-2)[0])==0:\n",
    "            return GLOW/1e5,-5 \n",
    "        else:\n",
    "            return GLOW/1e5,contraintes    "
   ]
  },
  {
   "cell_type": "markdown",
   "metadata": {},
   "source": [
    "### Definition of lower and upper bounds for the normalization during optimization"
   ]
  },
  {
   "cell_type": "code",
   "execution_count": 13,
   "metadata": {},
   "outputs": [],
   "source": [
    "lowerbnd_exp = np.array([150.,#Prop_mass_stage_1\n",
    "                         20., #Prop_mass_stage_2\n",
    "                          0.,#theta_cmd_i\n",
    "                         -10.,#theta_cmd_f\n",
    "                         -1.,#ksi\n",
    "                         5., #Pitch_over_duration\n",
    "                         5., #Delta_vertical_phase\n",
    "                         1., #Delta_theta_pitch_over\n",
    "                         10.,10.]) #command_stage_1_exo\n",
    "\n",
    "upperbnd_exp = np.array([600.,#Prop_mass_stage_1\n",
    "                         200., #Prop_mass_stage_2\n",
    "                         50.,#theta_cmd_i\n",
    "                         20.,#theta_cmd_f\n",
    "                         1.,#ksi\n",
    "                         20., #Pitch_over_duration\n",
    "                         20., #Delta_vertical_phase\n",
    "                         10., #Delta_theta_pitch_over\n",
    "                         70.,70.]) #command_stage_1_exo"
   ]
  },
  {
   "cell_type": "markdown",
   "metadata": {},
   "source": [
    "### Definition of CMA-ES options and bounds"
   ]
  },
  {
   "cell_type": "code",
   "execution_count": 14,
   "metadata": {},
   "outputs": [],
   "source": [
    "lower = np.zeros([1,len(lowerbnd_exp)])\n",
    "upper = np.ones([1,len(upperbnd_exp)])  \n",
    "options = cma.CMAOptions()\n",
    "bound_cma = np.array([lower[0],upper[0]])\n",
    "options = {'ftarget':-9e7,'tolfun':1e-5,'tolx':1e-6,'seed':2,\n",
    "           'bounds':[bound_cma[0],bound_cma[1]],'popsize':12,'maxiter':100,'verb_disp': 1}\n",
    "simu = 0\n",
    "init = np.ones(len(lowerbnd_exp))*0.5\n",
    "critere_cma = lambda x: Objective_function(x,lowerbnd_exp,upperbnd_exp,P_obj,simu)"
   ]
  },
  {
   "cell_type": "markdown",
   "metadata": {},
   "source": [
    "Parameters of CMA are regrouped into a dictionnary \"options\", of which the keys are the following: \n",
    "- ftarget: stopping value of objective function,\n",
    "- tolfun: tolerance value on objective functon,\n",
    "- tolx: tolerance value on design variable variations,\n",
    "- seed: seed of random generator of CMA-ES\n",
    "- bounds: (normalized) bounds on the design variables,\n",
    "- popsize: population size of CMA\n",
    "- maxiter: maximum number of iterations,\n",
    "- verdisp: display option"
   ]
  },
  {
   "cell_type": "markdown",
   "metadata": {},
   "source": [
    "### Running of CMA-ES\n",
    "Parameter $\\sigma$ is set at 0.2 in the following example, see CMA documentation"
   ]
  },
  {
   "cell_type": "code",
   "execution_count": 15,
   "metadata": {},
   "outputs": [
    {
     "name": "stdout",
     "output_type": "stream",
     "text": [
      "(6_w,12)-aCMA-ES (mu_w=3.7,w_1=40%) in dimension 10 (seed=2, Wed Mar 22 12:37:13 2023)\n",
      "Iterat #Fevals   function value  axis ratio  sigma  min&max std  t[m:s]\n",
      "    1     12 7.009361667899074e+03 1.0e+00 1.89e-01  2e-01  2e-01 0:01.4\n",
      "    2     24 2.626961258211488e+01 1.2e+00 1.83e-01  2e-01  2e-01 0:02.8\n",
      "    3     36 1.895641226242832e+01 1.3e+00 1.72e-01  2e-01  2e-01 0:03.9\n",
      "    4     48 2.187893856627922e+01 1.3e+00 1.73e-01  2e-01  2e-01 0:05.8\n",
      "    5     60 1.811671095232910e+01 1.4e+00 1.78e-01  2e-01  2e-01 0:07.8\n",
      "    6     72 -5.800873755390088e+00 1.3e+00 1.69e-01  2e-01  2e-01 0:09.8\n",
      "    7     84 1.458089467479529e+01 1.4e+00 1.61e-01  1e-01  2e-01 0:11.5\n",
      "    8     96 4.665871508215955e+00 1.4e+00 1.47e-01  1e-01  2e-01 0:12.9\n",
      "    9    108 3.301172283071550e+00 1.5e+00 1.36e-01  1e-01  1e-01 0:15.7\n",
      "   10    120 7.091123769823555e-01 1.6e+00 1.40e-01  1e-01  2e-01 0:17.8\n",
      "Iterat #Fevals   function value  axis ratio  sigma  min&max std  t[m:s]\n",
      "   11    132 4.187945184858462e+00 1.7e+00 1.36e-01  1e-01  2e-01 0:20.0\n",
      "   12    144 7.331397221497099e+01 1.7e+00 1.34e-01  1e-01  2e-01 0:21.8\n",
      "   13    156 1.307273444706829e+01 1.7e+00 1.35e-01  1e-01  2e-01 0:23.8\n",
      "   14    168 5.551120160260101e-01 1.9e+00 1.34e-01  1e-01  2e-01 0:26.4\n",
      "   15    180 1.166212508197633e+01 1.9e+00 1.41e-01  1e-01  2e-01 0:28.2\n",
      "   16    192 1.233608249611942e+01 1.9e+00 1.33e-01  1e-01  2e-01 0:30.0\n",
      "   17    204 9.742928937053442e+00 1.9e+00 1.30e-01  1e-01  1e-01 0:31.8\n",
      "   18    216 1.314807251377022e+00 1.8e+00 1.24e-01  1e-01  1e-01 0:33.6\n",
      "   19    228 8.743883299714966e+00 1.8e+00 1.43e-01  1e-01  2e-01 0:35.6\n",
      "   20    240 7.207745242388979e+00 1.9e+00 1.55e-01  1e-01  2e-01 0:37.7\n",
      "Iterat #Fevals   function value  axis ratio  sigma  min&max std  t[m:s]\n",
      "   21    252 3.316732792471958e+01 2.0e+00 1.53e-01  1e-01  2e-01 0:39.6\n",
      "   22    264 2.109027325776974e+00 2.0e+00 1.38e-01  1e-01  2e-01 0:41.5\n",
      "   23    276 1.436285445497888e+01 2.1e+00 1.33e-01  1e-01  2e-01 0:43.4\n",
      "   24    288 4.861266766889237e+00 2.2e+00 1.37e-01  1e-01  2e-01 0:45.3\n",
      "   25    300 1.757865108930998e+01 2.2e+00 1.53e-01  1e-01  2e-01 0:47.0\n",
      "   26    312 1.701173146673728e+00 2.3e+00 1.45e-01  1e-01  2e-01 0:49.1\n",
      "   27    324 2.023785589079674e+01 2.5e+00 1.38e-01  1e-01  2e-01 0:51.0\n",
      "   28    336 6.388118257734645e-01 2.6e+00 1.57e-01  1e-01  2e-01 0:52.7\n",
      "   29    348 8.135374283549897e+00 2.7e+00 1.64e-01  1e-01  2e-01 0:54.7\n",
      "   30    360 1.102529277974055e+01 2.8e+00 1.78e-01  1e-01  2e-01 0:56.6\n",
      "Iterat #Fevals   function value  axis ratio  sigma  min&max std  t[m:s]\n",
      "   31    372 5.599071439777340e+00 2.9e+00 1.86e-01  1e-01  2e-01 0:59.0\n",
      "   32    384 1.442960810413967e+01 3.0e+00 1.82e-01  1e-01  2e-01 1:01.3\n",
      "   33    396 2.343886920924671e+00 3.0e+00 1.91e-01  1e-01  2e-01 1:03.2\n",
      "   34    408 2.391834688503424e+01 3.0e+00 2.16e-01  1e-01  3e-01 1:04.9\n",
      "   35    420 6.986812550587630e+00 3.1e+00 2.27e-01  1e-01  3e-01 1:06.7\n",
      "   36    432 7.344156339279525e+00 3.4e+00 2.21e-01  1e-01  3e-01 1:08.6\n",
      "   37    444 1.205830254979944e+01 3.3e+00 2.10e-01  1e-01  3e-01 1:10.3\n",
      "   38    456 1.122367653251050e+01 3.4e+00 2.17e-01  1e-01  3e-01 1:12.1\n",
      "   39    468 6.986895997726155e+00 3.6e+00 2.11e-01  1e-01  3e-01 1:14.1\n",
      "   40    480 7.962178712649273e-01 3.7e+00 1.98e-01  1e-01  3e-01 1:15.9\n",
      "Iterat #Fevals   function value  axis ratio  sigma  min&max std  t[m:s]\n",
      "   41    492 8.126963791152118e+00 3.7e+00 1.81e-01  1e-01  2e-01 1:17.6\n",
      "   42    504 1.174221365706047e+01 3.7e+00 1.86e-01  1e-01  2e-01 1:19.8\n",
      "   43    516 4.707182904035865e+00 4.0e+00 1.69e-01  9e-02  2e-01 1:21.8\n",
      "   44    528 2.667042109921145e+00 4.0e+00 1.70e-01  9e-02  2e-01 1:23.7\n",
      "   45    540 2.184353577678134e+00 4.0e+00 1.72e-01  9e-02  2e-01 1:25.8\n",
      "   46    552 5.947393453153799e+00 3.9e+00 1.77e-01  9e-02  2e-01 1:27.7\n",
      "   47    564 3.331945191898478e+00 3.7e+00 1.54e-01  8e-02  2e-01 1:29.8\n",
      "   48    576 4.330287882942535e+00 3.9e+00 1.54e-01  7e-02  2e-01 1:31.6\n",
      "   49    588 8.136902878772940e+00 4.4e+00 1.44e-01  7e-02  2e-01 1:33.4\n",
      "   50    600 8.893230774829270e+00 4.8e+00 1.39e-01  7e-02  2e-01 1:35.2\n",
      "Iterat #Fevals   function value  axis ratio  sigma  min&max std  t[m:s]\n",
      "   51    612 4.987518752056324e+00 4.8e+00 1.38e-01  6e-02  2e-01 1:37.6\n",
      "   52    624 9.421006480540871e+00 4.7e+00 1.42e-01  7e-02  2e-01 1:39.9\n",
      "   53    636 5.689300793644055e+00 4.9e+00 1.30e-01  6e-02  2e-01 1:41.7\n",
      "   54    648 4.520017726033302e+00 4.9e+00 1.32e-01  6e-02  2e-01 1:43.7\n",
      "   55    660 -5.856474938343272e+00 5.0e+00 1.58e-01  7e-02  2e-01 1:45.6\n",
      "   56    672 1.809184019137547e+00 5.2e+00 1.77e-01  8e-02  2e-01 1:47.6\n",
      "   57    684 1.048063215953039e+00 5.1e+00 1.69e-01  7e-02  2e-01 1:49.6\n",
      "   58    696 3.992648993635971e+00 5.1e+00 1.60e-01  7e-02  2e-01 1:51.3\n",
      "   59    708 -5.373863261253007e+00 5.0e+00 1.56e-01  7e-02  2e-01 1:53.3\n",
      "   60    720 -5.591686663846028e+00 5.1e+00 1.44e-01  6e-02  2e-01 1:55.3\n",
      "Iterat #Fevals   function value  axis ratio  sigma  min&max std  t[m:s]\n",
      "   61    732 3.600346300720330e-01 5.2e+00 1.38e-01  6e-02  2e-01 1:57.3\n",
      "   62    744 1.096582617590546e+00 5.3e+00 1.40e-01  6e-02  2e-01 1:59.3\n",
      "   63    756 9.215871684617447e-01 5.4e+00 1.36e-01  5e-02  2e-01 2:01.2\n",
      "   64    768 -5.525171680007002e+00 5.4e+00 1.31e-01  5e-02  2e-01 2:03.6\n",
      "   65    780 -6.018714156499753e+00 5.6e+00 1.35e-01  5e-02  2e-01 2:05.4\n",
      "   66    792 9.569875683866349e-01 5.6e+00 1.31e-01  5e-02  2e-01 2:07.4\n",
      "   67    804 1.167853928307619e+00 5.6e+00 1.27e-01  5e-02  2e-01 2:09.3\n",
      "   68    816 -5.782510059473151e+00 5.6e+00 1.26e-01  5e-02  2e-01 2:11.0\n",
      "   69    828 -5.879402723868497e+00 6.0e+00 1.14e-01  4e-02  1e-01 2:12.9\n",
      "   70    840 -6.081520873902996e+00 6.2e+00 1.07e-01  4e-02  1e-01 2:14.7\n",
      "Iterat #Fevals   function value  axis ratio  sigma  min&max std  t[m:s]\n",
      "   71    852 -5.987782773095608e+00 6.1e+00 9.90e-02  4e-02  1e-01 2:16.2\n",
      "   72    864 -6.021058477596096e+00 6.1e+00 9.49e-02  3e-02  1e-01 2:18.1\n",
      "   73    876 -6.061488520219289e+00 6.3e+00 9.01e-02  3e-02  1e-01 2:19.8\n",
      "   74    888 -5.978387874681030e+00 6.2e+00 8.09e-02  3e-02  9e-02 2:21.7\n",
      "   75    900 -5.968248576374504e+00 6.3e+00 7.46e-02  3e-02  9e-02 2:23.6\n",
      "   76    912 -6.034015727711581e+00 6.7e+00 7.39e-02  3e-02  9e-02 2:25.4\n",
      "   77    924 -6.069423873760107e+00 7.1e+00 7.33e-02  2e-02  9e-02 2:27.3\n",
      "   78    936 -6.157061763647163e+00 7.1e+00 7.24e-02  2e-02  8e-02 2:29.0\n",
      "   79    948 -6.167050499437188e+00 7.4e+00 7.22e-02  2e-02  8e-02 2:30.4\n",
      "   80    960 -6.158625988078995e+00 7.7e+00 7.57e-02  3e-02  9e-02 2:31.9\n",
      "Iterat #Fevals   function value  axis ratio  sigma  min&max std  t[m:s]\n",
      "   81    972 -6.035661520345542e+00 8.6e+00 7.00e-02  2e-02  8e-02 2:33.7\n",
      "   82    984 -6.138623915988513e+00 8.6e+00 6.55e-02  2e-02  7e-02 2:35.5\n",
      "   83    996 -6.190022975986084e+00 8.9e+00 5.94e-02  2e-02  7e-02 2:36.9\n",
      "   84   1008 -6.186309830088301e+00 8.9e+00 5.81e-02  2e-02  6e-02 2:38.2\n",
      "   85   1020 -6.160757864488708e+00 8.8e+00 5.30e-02  2e-02  6e-02 2:39.7\n",
      "   86   1032 -6.153883577104823e+00 8.8e+00 5.14e-02  2e-02  6e-02 2:41.2\n",
      "   87   1044 -6.088869841476759e+00 8.7e+00 5.55e-02  2e-02  7e-02 2:42.8\n",
      "   88   1056 -6.132554131518352e+00 9.6e+00 5.10e-02  2e-02  6e-02 2:44.5\n",
      "   89   1068 -6.173577355066360e+00 9.8e+00 4.68e-02  2e-02  6e-02 2:46.1\n",
      "   90   1080 -6.159576490609791e+00 1.0e+01 4.50e-02  1e-02  6e-02 2:47.8\n",
      "Iterat #Fevals   function value  axis ratio  sigma  min&max std  t[m:s]\n",
      "   91   1092 -6.173577087215333e+00 1.0e+01 3.97e-02  1e-02  5e-02 2:49.2\n",
      "   92   1104 -6.189112269978131e+00 1.1e+01 3.62e-02  1e-02  5e-02 2:50.5\n",
      "   93   1116 -6.191357349287437e+00 1.1e+01 3.62e-02  1e-02  5e-02 2:51.8\n",
      "   94   1128 -6.161212744197291e+00 1.1e+01 3.66e-02  1e-02  5e-02 2:53.2\n",
      "   95   1140 -6.176126210671749e+00 1.1e+01 3.34e-02  1e-02  4e-02 2:54.8\n",
      "   96   1152 -6.186613290378008e+00 1.1e+01 3.16e-02  1e-02  4e-02 2:56.1\n",
      "   97   1164 -6.200747724734314e+00 1.1e+01 2.81e-02  9e-03  3e-02 2:57.4\n",
      "   98   1176 -6.196786523870943e+00 1.1e+01 2.48e-02  7e-03  3e-02 2:58.5\n",
      "   99   1188 -6.184289741512565e+00 1.1e+01 2.30e-02  7e-03  3e-02 2:59.6\n",
      "  100   1200 -6.196418348330129e+00 1.1e+01 2.13e-02  6e-03  3e-02 3:00.5\n",
      "termination on maxiter=100 (Wed Mar 22 12:40:14 2023)\n",
      "final/bestever f-value = -6.188000e+00 -6.200748e+00 after 1201/1163 evaluations\n",
      "incumbent solution: [0.21556763 0.40859358 0.93511494 0.60189533 0.0086375  0.39998483\n",
      " 0.87925692 0.87980316 ...]\n",
      "std deviations: [0.00594593 0.00705505 0.01937967 0.01751414 0.01513949 0.0175896\n",
      " 0.01397808 0.01987866 ...]\n"
     ]
    }
   ],
   "source": [
    "res = cma.fmin(critere_cma,init,.2,options)"
   ]
  },
  {
   "cell_type": "markdown",
   "metadata": {},
   "source": [
    "### Results of optimization\n",
    "#### Optimal value of the design variables, of the objective function and penalized constraints and of the GLOW\n",
    "Be careful that the optimal value of the design variables do not reach the bounds defined in lowerbnd_exp and upperbnd_exp especially for the propellant masses. If it is the case, modify the bounds and rerun the optimization."
   ]
  },
  {
   "cell_type": "code",
   "execution_count": 16,
   "metadata": {
    "scrolled": true
   },
   "outputs": [
    {
     "name": "stdout",
     "output_type": "stream",
     "text": [
      ">> Optimal design variable values [0.21477035 0.40375475 0.93229338 0.62035091 0.01331255 0.39358576\n",
      " 0.87675275 0.84989161 0.43131806 0.58064533]\n",
      ">> Objective, Penalized Constraint (3.7992522752656863, -5)\n",
      ">> Optimal GLOW (t) [379.92522753]\n"
     ]
    }
   ],
   "source": [
    "print('>> Optimal design variable values',res[0])\n",
    "print('>> Objective, Penalized Constraint',Objective_function(res[0],lowerbnd_exp,upperbnd_exp,P_obj,1))\n",
    "print('>> Optimal GLOW (t)', P_obj['GLOW']/1e3)"
   ]
  },
  {
   "cell_type": "markdown",
   "metadata": {},
   "source": [
    "### Plots of the results of optimization"
   ]
  },
  {
   "cell_type": "code",
   "execution_count": 17,
   "metadata": {},
   "outputs": [
    {
     "data": {
      "text/plain": [
       "<Figure size 1500x1500 with 8 Axes>"
      ]
     },
     "metadata": {},
     "output_type": "display_data"
    }
   ],
   "source": [
    "P_out = FPI_optim(res[0],lowerbnd_exp,upperbnd_exp,P_obj)\n",
    "result_vizualization.plots_output(P_out)"
   ]
  },
  {
   "cell_type": "code",
   "execution_count": 18,
   "metadata": {},
   "outputs": [
    {
     "data": {
      "text/html": [
       "<div>\n",
       "<style scoped>\n",
       "    .dataframe tbody tr th:only-of-type {\n",
       "        vertical-align: middle;\n",
       "    }\n",
       "\n",
       "    .dataframe tbody tr th {\n",
       "        vertical-align: top;\n",
       "    }\n",
       "\n",
       "    .dataframe thead th {\n",
       "        text-align: right;\n",
       "    }\n",
       "</style>\n",
       "<table border=\"1\" class=\"dataframe\">\n",
       "  <thead>\n",
       "    <tr style=\"text-align: right;\">\n",
       "      <th></th>\n",
       "      <th>GLOW (t)</th>\n",
       "      <th>Dry_mass_stage_1  (t)</th>\n",
       "      <th>Dry_mass_stage_2  (t)</th>\n",
       "      <th>Prop_mass_stage_1 (t)</th>\n",
       "      <th>Prop_mass_stage_2 (t)</th>\n",
       "    </tr>\n",
       "  </thead>\n",
       "  <tbody>\n",
       "    <tr>\n",
       "      <th>0</th>\n",
       "      <td>379.925</td>\n",
       "      <td>25.901</td>\n",
       "      <td>7.701</td>\n",
       "      <td>246.647</td>\n",
       "      <td>92.676</td>\n",
       "    </tr>\n",
       "  </tbody>\n",
       "</table>\n",
       "</div>"
      ],
      "text/plain": [
       "   GLOW (t)  Dry_mass_stage_1  (t)  Dry_mass_stage_2  (t)  \\\n",
       "0   379.925                 25.901                  7.701   \n",
       "\n",
       "   Prop_mass_stage_1 (t)  Prop_mass_stage_2 (t)  \n",
       "0                246.647                 92.676  "
      ]
     },
     "execution_count": 18,
     "metadata": {},
     "output_type": "execute_result"
    }
   ],
   "source": [
    "data = [[P_out['GLOW'][0]/1e3,\n",
    "         P_out['Dry_mass_stage_1'][0]/1e3,\n",
    "         P_out['Dry_mass_stage_2'][0]/1e3,\n",
    "        P_out['Prop_mass_stage_1'][0]/1e3,\n",
    "        P_out['Prop_mass_stage_2'][0]/1e3]]\n",
    "df = pd.DataFrame(data, columns=[\"GLOW (t)\", \"Dry_mass_stage_1  (t)\", \n",
    "                                     \"Dry_mass_stage_2  (t)\", \"Prop_mass_stage_1 (t)\", \n",
    "                                     \"Prop_mass_stage_2 (t)\"])\n",
    "df.round(3)"
   ]
  },
  {
   "cell_type": "code",
   "execution_count": null,
   "metadata": {},
   "outputs": [],
   "source": []
  }
 ],
 "metadata": {
  "kernelspec": {
   "display_name": "Python 3 (ipykernel)",
   "language": "python",
   "name": "python3"
  },
  "language_info": {
   "codemirror_mode": {
    "name": "ipython",
    "version": 3
   },
   "file_extension": ".py",
   "mimetype": "text/x-python",
   "name": "python",
   "nbconvert_exporter": "python",
   "pygments_lexer": "ipython3",
   "version": "3.8.16"
  }
 },
 "nbformat": 4,
 "nbformat_minor": 2
}
